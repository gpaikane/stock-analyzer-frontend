{
 "cells": [
  {
   "cell_type": "code",
   "execution_count": 8,
   "id": "b222da21-dcb6-4a4a-b073-25999ee805d1",
   "metadata": {},
   "outputs": [],
   "source": [
    "import warnings\n",
    "warnings.filterwarnings(\"ignore\")"
   ]
  },
  {
   "cell_type": "code",
   "execution_count": 26,
   "id": "5db09b86-d1b7-42e8-8831-5a121d3a495f",
   "metadata": {},
   "outputs": [],
   "source": [
    "import bridge\n",
    "import plots\n",
    "import pandas as pd"
   ]
  },
  {
   "cell_type": "code",
   "execution_count": 27,
   "id": "82f65808-fce8-4f76-91de-fac0d8edaa83",
   "metadata": {},
   "outputs": [],
   "source": [
    "endpoint = \"get_ticker\"\n",
    "input_str=\"Persistent systems from India\"\n",
    "data = bridge.get_endpoint_with_data(endpoint,  text=input_str)"
   ]
  },
  {
   "cell_type": "code",
   "execution_count": 28,
   "id": "06c4bd43-e0ea-4da6-9504-1def2a5d4217",
   "metadata": {},
   "outputs": [
    {
     "data": {
      "text/plain": [
       "'PERSISTENT.NS'"
      ]
     },
     "execution_count": 28,
     "metadata": {},
     "output_type": "execute_result"
    }
   ],
   "source": []
  },
  {
   "cell_type": "code",
   "execution_count": 29,
   "id": "140bbe61-b957-4b91-89cb-83279c0c3533",
   "metadata": {},
   "outputs": [
    {
     "data": {
      "text/plain": [
       "['Price to Earnings Ratio (P/E)',\n",
       " 'Price to Book Ratio (P/B)',\n",
       " 'Dividend Yield',\n",
       " 'Debt to Equity Ratio (D/E)',\n",
       " 'Return on Equity (ROE)',\n",
       " 'Current Ratio']"
      ]
     },
     "execution_count": 29,
     "metadata": {},
     "output_type": "execute_result"
    }
   ],
   "source": [
    "top_fundamentals_count = 6\n",
    "\n",
    "fundamentals = bridge.get_endpoint_with_data(get_top_fundamentals,fundamental_count = top_fundamentals_count)\n",
    "fundamentals"
   ]
  },
  {
   "cell_type": "code",
   "execution_count": 30,
   "id": "45c1a693-1ddf-4106-a54c-66dae9783ba4",
   "metadata": {},
   "outputs": [
    {
     "name": "stderr",
     "output_type": "stream",
     "text": [
      "\n",
      "KeyboardInterrupt\n",
      "\n"
     ]
    }
   ],
   "source": [
    "endpoint = \"get_fundamentals_values\"\n",
    "\n",
    "fundamentals_values =  bridge.call_endpoint_with_params(endpoint,fundamentals=fundamentals,ticker=data)"
   ]
  },
  {
   "cell_type": "code",
   "execution_count": null,
   "id": "608571af-3a33-43c0-bf21-a929218fccec",
   "metadata": {},
   "outputs": [],
   "source": [
    "fundamentals_values"
   ]
  },
  {
   "cell_type": "code",
   "execution_count": null,
   "id": "2be803e4-1bbc-4cee-90f3-7ac8b54d5db1",
   "metadata": {},
   "outputs": [],
   "source": [
    "endpoint = \"get_company_details\"\n",
    "\n",
    "company, suffix  =  bridge.call_endpoint_with_params(endpoint,text=input_str)"
   ]
  },
  {
   "cell_type": "code",
   "execution_count": null,
   "id": "dd2f4cd3-0501-41f9-8bcb-1a6b2857c9c8",
   "metadata": {},
   "outputs": [],
   "source": [
    "company, suffix"
   ]
  },
  {
   "cell_type": "code",
   "execution_count": null,
   "id": "4ed63309-8072-417c-8b39-3a1cc2475b78",
   "metadata": {},
   "outputs": [],
   "source": [
    "endpoint = \"get_news\"\n",
    "\n",
    "news  =  bridge.call_endpoint_with_params(endpoint,company=company, suffix=suffix)"
   ]
  },
  {
   "cell_type": "code",
   "execution_count": null,
   "id": "61c5a9e6-7872-4c67-ab36-7fd9e7fdbb65",
   "metadata": {},
   "outputs": [],
   "source": [
    "endpoint = \"get_summary\"\n",
    "\n",
    "summary  =  bridge.get_endpoint_with_data(endpoint,fundamentals_values=fundamentals_values, new_summary=news, ticker=data)"
   ]
  },
  {
   "cell_type": "code",
   "execution_count": null,
   "id": "a7b352dc-0149-4c92-a02a-3e1e811b5874",
   "metadata": {},
   "outputs": [],
   "source": [
    "print(summary['content'])"
   ]
  },
  {
   "cell_type": "code",
   "execution_count": null,
   "id": "59aae05d-27e2-480f-9e64-cac773201a60",
   "metadata": {},
   "outputs": [],
   "source": [
    "endpoint = \"get_forecasted_data\"\n",
    "\n",
    "forecast  =  bridge.call_endpoint_with_params(endpoint, ticker=data)"
   ]
  },
  {
   "cell_type": "code",
   "execution_count": null,
   "id": "a0ef2862-19b0-4104-9284-d1bfd837d38e",
   "metadata": {},
   "outputs": [],
   "source": [
    "plots.plot_ploty(pd.DataFrame(forecast), ticker=data)"
   ]
  },
  {
   "cell_type": "code",
   "execution_count": null,
   "id": "1b1a6c2c-3f4e-450a-afc1-ec11e0adedbf",
   "metadata": {},
   "outputs": [],
   "source": []
  },
  {
   "cell_type": "code",
   "execution_count": null,
   "id": "9cfac9f8-32d2-4380-a8d7-a70041d03c25",
   "metadata": {},
   "outputs": [],
   "source": []
  },
  {
   "cell_type": "code",
   "execution_count": null,
   "id": "18bd7218-96b0-4b6e-8524-e94713bb922a",
   "metadata": {},
   "outputs": [],
   "source": []
  }
 ],
 "metadata": {
  "kernelspec": {
   "display_name": "Python 3 (ipykernel)",
   "language": "python",
   "name": "python3"
  },
  "language_info": {
   "codemirror_mode": {
    "name": "ipython",
    "version": 3
   },
   "file_extension": ".py",
   "mimetype": "text/x-python",
   "name": "python",
   "nbconvert_exporter": "python",
   "pygments_lexer": "ipython3",
   "version": "3.9.6"
  }
 },
 "nbformat": 4,
 "nbformat_minor": 5
}
